{
  "nbformat": 4,
  "nbformat_minor": 0,
  "metadata": {
    "colab": {
      "name": "Sign_Language_Classifier.ipynb",
      "provenance": [],
      "collapsed_sections": []
    },
    "kernelspec": {
      "name": "python3",
      "display_name": "Python 3"
    },
    "language_info": {
      "name": "python"
    },
    "accelerator": "GPU"
  },
  "cells": [
    {
      "cell_type": "markdown",
      "metadata": {
        "id": "7CKCXBf149DM"
      },
      "source": [
        "**Import Libraries**"
      ]
    },
    {
      "cell_type": "code",
      "metadata": {
        "id": "6XF22lX94uUG"
      },
      "source": [
        "import csv\n",
        "import numpy as np\n",
        "import tensorflow as tf\n",
        "from tensorflow.keras.preprocessing.image import ImageDataGenerator\n",
        "from google.colab import files"
      ],
      "execution_count": 21,
      "outputs": []
    },
    {
      "cell_type": "code",
      "metadata": {
        "colab": {
          "base_uri": "https://localhost:8080/"
        },
        "id": "paiDaKadOYRd",
        "outputId": "cb762202-ce54-4dd7-d05e-40d17b97b77c"
      },
      "source": [
        "!ls"
      ],
      "execution_count": 23,
      "outputs": [
        {
          "output_type": "stream",
          "text": [
            "drive  gdrive  sample_data\n"
          ],
          "name": "stdout"
        }
      ]
    },
    {
      "cell_type": "code",
      "metadata": {
        "id": "5R5x4CMU5z9o"
      },
      "source": [
        "import os\n",
        "os.environ['KAGGLE_CONFIG_DIR'] = \"/content/drive/MyDrive/Kaggle\"\n"
      ],
      "execution_count": 24,
      "outputs": []
    },
    {
      "cell_type": "code",
      "metadata": {
        "id": "ELRrGLtb6ZKY"
      },
      "source": [
        "!cd /content/drive/MyDrive/Kaggle\n"
      ],
      "execution_count": 25,
      "outputs": []
    },
    {
      "cell_type": "code",
      "metadata": {
        "colab": {
          "base_uri": "https://localhost:8080/"
        },
        "id": "JpgopdDJ7ITP",
        "outputId": "53c20025-cd57-4bb1-c0ec-dff651166ef4"
      },
      "source": [
        "!ls"
      ],
      "execution_count": 26,
      "outputs": [
        {
          "output_type": "stream",
          "text": [
            "drive  gdrive  sample_data\n"
          ],
          "name": "stdout"
        }
      ]
    },
    {
      "cell_type": "markdown",
      "metadata": {
        "id": "BCzu0LIYAXlu"
      },
      "source": [
        "**Downloaded the dataset from Kaggle**\n",
        "\n",
        "1.   Sign Language MNIST (https://www.kaggle.com/datamunge/sign-language-mnist#)\n",
        "\n",
        "\n"
      ]
    },
    {
      "cell_type": "code",
      "metadata": {
        "id": "AW2T262p7b9V",
        "colab": {
          "base_uri": "https://localhost:8080/"
        },
        "outputId": "d517d706-638d-4d1d-a5a7-e365a69d1414"
      },
      "source": [
        "!kaggle datasets download -d datamunge/sign-language-mnist "
      ],
      "execution_count": 27,
      "outputs": [
        {
          "output_type": "stream",
          "text": [
            "Downloading sign-language-mnist.zip to /content\n",
            " 78% 49.0M/62.6M [00:01<00:00, 23.6MB/s]\n",
            "100% 62.6M/62.6M [00:01<00:00, 37.1MB/s]\n"
          ],
          "name": "stdout"
        }
      ]
    },
    {
      "cell_type": "code",
      "metadata": {
        "colab": {
          "base_uri": "https://localhost:8080/"
        },
        "id": "Wus4sQLq5qTy",
        "outputId": "fa0c0e2e-0f44-49b2-960e-f43fdc557edf"
      },
      "source": [
        "!ls"
      ],
      "execution_count": 28,
      "outputs": [
        {
          "output_type": "stream",
          "text": [
            "drive  gdrive  sample_data  sign-language-mnist.zip\n"
          ],
          "name": "stdout"
        }
      ]
    },
    {
      "cell_type": "markdown",
      "metadata": {
        "id": "noAEFtXbArYZ"
      },
      "source": [
        "**Now unzipping the file here**"
      ]
    },
    {
      "cell_type": "code",
      "metadata": {
        "colab": {
          "base_uri": "https://localhost:8080/"
        },
        "id": "zRpBmCQz8ZxM",
        "outputId": "5cf99904-0a54-4515-daec-101be070c3bf"
      },
      "source": [
        "!unzip \\*.zip && re *.\n"
      ],
      "execution_count": 29,
      "outputs": [
        {
          "output_type": "stream",
          "text": [
            "Archive:  sign-language-mnist.zip\n",
            "  inflating: amer_sign2.png          \n",
            "  inflating: amer_sign3.png          \n",
            "  inflating: american_sign_language.PNG  \n",
            "  inflating: sign_mnist_test.csv     \n",
            "  inflating: sign_mnist_test/sign_mnist_test.csv  \n",
            "  inflating: sign_mnist_train.csv    \n",
            "  inflating: sign_mnist_train/sign_mnist_train.csv  \n",
            "/bin/bash: re: command not found\n"
          ],
          "name": "stdout"
        }
      ]
    },
    {
      "cell_type": "code",
      "metadata": {
        "colab": {
          "base_uri": "https://localhost:8080/"
        },
        "id": "srDrZWk28mvZ",
        "outputId": "3b8655ec-36a0-4e77-d189-d3dd2f319367"
      },
      "source": [
        "ls"
      ],
      "execution_count": 30,
      "outputs": [
        {
          "output_type": "stream",
          "text": [
            "american_sign_language.PNG  \u001b[0m\u001b[01;34mgdrive\u001b[0m/                  sign_mnist_test.csv\n",
            "amer_sign2.png              \u001b[01;34msample_data\u001b[0m/             \u001b[01;34msign_mnist_train\u001b[0m/\n",
            "amer_sign3.png              sign-language-mnist.zip  sign_mnist_train.csv\n",
            "\u001b[01;34mdrive\u001b[0m/                      \u001b[01;34msign_mnist_test\u001b[0m/\n"
          ],
          "name": "stdout"
        }
      ]
    },
    {
      "cell_type": "code",
      "metadata": {
        "colab": {
          "base_uri": "https://localhost:8080/"
        },
        "id": "v-Cv3DYA-Hv5",
        "outputId": "2ef58a28-fa81-4a6c-e477-c57304c1d214"
      },
      "source": [
        "def get_data(filename):\n",
        "  # First we need to write code that will read the file passed\n",
        "  # into this function. The first line contains the column headers\n",
        "  # so we should ignore it\n",
        "  # Each successive line will contians 785 comma separated values between 0 and 255\n",
        "  # The first value will be the label\n",
        "  # The rest are the pixel values for that picture\n",
        "  # The function will return 2 np.array types. One with all the labels\n",
        "  # One with all the images\n",
        "  #\n",
        "  # Steps: \n",
        "  # If we read a full line (as 'row') then row[0] has the label\n",
        "  # and row[1:785] has the 784 pixel values\n",
        "  # We then will take a look at np.array_split to turn the 784 pixels into 28x28\n",
        "  # We will be reading in strings, but need the values to be floats\n",
        "  # We will use np.array().astype for a conversion\n",
        "  \n",
        "    with open(filename) as training_file:\n",
        "      reader = csv.reader(training_file, delimiter=',')    \n",
        "      imgs = []\n",
        "      labels = []\n",
        "      next(reader, None)        \n",
        "      for row in reader:\n",
        "          label = row[0]\n",
        "          data = row[1:]\n",
        "          img = np.array(data).reshape((28, 28))\n",
        "\n",
        "          imgs.append(img)\n",
        "          labels.append(label)\n",
        "\n",
        "      images = np.array(imgs).astype(float)\n",
        "      labels = np.array(labels).astype(float)\n",
        "\n",
        "    return images, labels\n",
        "\n",
        "\n",
        "training_images, training_labels = get_data('sign_mnist_train.csv')\n",
        "testing_images, testing_labels = get_data('sign_mnist_test.csv')\n",
        "\n",
        "path_sign_mnist_train = \"sign_mnist_train.csv\"\n",
        "path_sign_mnist_test = \"sign_mnist_test.csv\"\n",
        "\n",
        "print(training_images.shape)\n",
        "print(training_labels.shape)\n",
        "print(testing_images.shape)\n",
        "print(testing_labels.shape)\n"
      ],
      "execution_count": 34,
      "outputs": [
        {
          "output_type": "stream",
          "text": [
            "(27455, 28, 28)\n",
            "(27455,)\n",
            "(7172, 28, 28)\n",
            "(7172,)\n"
          ],
          "name": "stdout"
        }
      ]
    },
    {
      "cell_type": "code",
      "metadata": {
        "colab": {
          "base_uri": "https://localhost:8080/"
        },
        "id": "TDOiqpILIpW6",
        "outputId": "fbb8801d-a98a-40b6-eb7f-f7f4464c0415"
      },
      "source": [
        "!ls"
      ],
      "execution_count": 32,
      "outputs": [
        {
          "output_type": "stream",
          "text": [
            "american_sign_language.PNG  gdrive\t\t     sign_mnist_test.csv\n",
            "amer_sign2.png\t\t    sample_data\t\t     sign_mnist_train\n",
            "amer_sign3.png\t\t    sign-language-mnist.zip  sign_mnist_train.csv\n",
            "drive\t\t\t    sign_mnist_test\n"
          ],
          "name": "stdout"
        }
      ]
    },
    {
      "cell_type": "code",
      "metadata": {
        "colab": {
          "base_uri": "https://localhost:8080/"
        },
        "id": "JY8AMCkH_MR9",
        "outputId": "63372bde-b960-4c62-e270-9c8956e0055c"
      },
      "source": [
        "# In this section we have to add another dimension to the data\n",
        "# So, for example, if the array is (10000, 28, 28)\n",
        "# We will need to make it (10000, 28, 28, 1)\n",
        "# Need to use: np.expand_dims\n",
        "\n",
        "training_images = np.expand_dims(training_images, axis=3)\n",
        "testing_images = np.expand_dims(testing_images, axis=3)\n",
        "\n",
        "TRAINING_DIR = \"sign_mnist_train/\"\n",
        "# Created an ImageDataGenerator and do Image Augmentation\n",
        "train_datagen = ImageDataGenerator(\n",
        "    rescale = 1./255,\n",
        "    rotation_range = 40,\n",
        "    width_shift_range = 0.2,\n",
        "    height_shift_range = 0.2,\n",
        "    shear_range = 0.2,\n",
        "    zoom_range = 0.2,\n",
        "    horizontal_flip = True,\n",
        "    fill_mode = 'nearest'\n",
        "    )\n",
        "\n",
        "VALIDATION_DIR = \"sign_mnist_test/\"\n",
        "validation_datagen = ImageDataGenerator(\n",
        "    rescale = 1./255\n",
        "    )\n",
        "    \n",
        "# Keep These\n",
        "print(training_images.shape)\n",
        "print(testing_images.shape)\n",
        "    \n",
        "# Their output should be:\n",
        "# (27455, 28, 28, 1)\n",
        "# (7172, 28, 28, 1)"
      ],
      "execution_count": 35,
      "outputs": [
        {
          "output_type": "stream",
          "text": [
            "(27455, 28, 28, 1)\n",
            "(7172, 28, 28, 1)\n"
          ],
          "name": "stdout"
        }
      ]
    },
    {
      "cell_type": "code",
      "metadata": {
        "colab": {
          "base_uri": "https://localhost:8080/"
        },
        "id": "8K7WXDKyBLA1",
        "outputId": "eaaf9e13-d729-4934-927f-785350faca1d"
      },
      "source": [
        "# Defined the model\n",
        "model = tf.keras.models.Sequential([\n",
        "    # Your Code Here\n",
        "    tf.keras.layers.Conv2D(64, (3,3), activation='relu', input_shape=(28,28,1)),\n",
        "    tf.keras.layers.MaxPooling2D(2,2),\n",
        "    tf.keras.layers.Conv2D(128,(3,3), activation='relu'),\n",
        "    tf.keras.layers.MaxPooling2D(2,2),\n",
        "    tf.keras.layers.Flatten(),\n",
        "    tf.keras.layers.Dense(512, activation='relu'),\n",
        "    tf.keras.layers.Dense(26, activation='softmax')\n",
        "])\n",
        "\n",
        "# Compiled the Model. \n",
        "model.compile(loss = 'sparse_categorical_crossentropy',\n",
        "              optimizer = 'rmsprop',\n",
        "              metrics = ['accuracy']\n",
        "             )\n",
        "\n",
        "# Training the Model\n",
        "train_generator = train_datagen.flow(\n",
        "    training_images, \n",
        "    training_labels,\n",
        "    batch_size = 64\n",
        ")\n",
        "validation_generator = validation_datagen.flow(\n",
        "    testing_images, \n",
        "    testing_labels,\n",
        "    batch_size = 64\n",
        ")\n",
        "# model.fit can also be used here\n",
        "history = model.fit_generator(train_generator,\n",
        "                             epochs = 15,\n",
        "#                              steps_per_epoch=20,\n",
        "                             validation_data = validation_generator,\n",
        "                             verbose =1,\n",
        "                             validation_steps = 3)\n",
        "\n",
        "model.evaluate(testing_images, testing_labels, verbose=0)"
      ],
      "execution_count": 36,
      "outputs": [
        {
          "output_type": "stream",
          "text": [
            "/usr/local/lib/python3.7/dist-packages/tensorflow/python/keras/engine/training.py:1940: UserWarning: `Model.fit_generator` is deprecated and will be removed in a future version. Please use `Model.fit`, which supports generators.\n",
            "  warnings.warn('`Model.fit_generator` is deprecated and '\n"
          ],
          "name": "stderr"
        },
        {
          "output_type": "stream",
          "text": [
            "Epoch 1/15\n",
            "429/429 [==============================] - 43s 33ms/step - loss: 2.6879 - accuracy: 0.1901 - val_loss: 1.6704 - val_accuracy: 0.4427\n",
            "Epoch 2/15\n",
            "429/429 [==============================] - 14s 32ms/step - loss: 1.8553 - accuracy: 0.4160 - val_loss: 0.8587 - val_accuracy: 0.7031\n",
            "Epoch 3/15\n",
            "429/429 [==============================] - 14s 32ms/step - loss: 1.3787 - accuracy: 0.5579 - val_loss: 0.6571 - val_accuracy: 0.7865\n",
            "Epoch 4/15\n",
            "429/429 [==============================] - 13s 31ms/step - loss: 1.0676 - accuracy: 0.6508 - val_loss: 0.7078 - val_accuracy: 0.7500\n",
            "Epoch 5/15\n",
            "429/429 [==============================] - 14s 32ms/step - loss: 0.8498 - accuracy: 0.7207 - val_loss: 0.5496 - val_accuracy: 0.7708\n",
            "Epoch 6/15\n",
            "429/429 [==============================] - 14s 32ms/step - loss: 0.7128 - accuracy: 0.7646 - val_loss: 0.2520 - val_accuracy: 0.9115\n",
            "Epoch 7/15\n",
            "429/429 [==============================] - 14s 32ms/step - loss: 0.5996 - accuracy: 0.8020 - val_loss: 0.2207 - val_accuracy: 0.9167\n",
            "Epoch 8/15\n",
            "429/429 [==============================] - 13s 31ms/step - loss: 0.5263 - accuracy: 0.8240 - val_loss: 0.2899 - val_accuracy: 0.9010\n",
            "Epoch 9/15\n",
            "429/429 [==============================] - 13s 31ms/step - loss: 0.4618 - accuracy: 0.8475 - val_loss: 0.1956 - val_accuracy: 0.9427\n",
            "Epoch 10/15\n",
            "429/429 [==============================] - 14s 31ms/step - loss: 0.4031 - accuracy: 0.8648 - val_loss: 0.1732 - val_accuracy: 0.9479\n",
            "Epoch 11/15\n",
            "429/429 [==============================] - 14s 32ms/step - loss: 0.3717 - accuracy: 0.8790 - val_loss: 0.1714 - val_accuracy: 0.9323\n",
            "Epoch 12/15\n",
            "429/429 [==============================] - 14s 33ms/step - loss: 0.3493 - accuracy: 0.8823 - val_loss: 0.1677 - val_accuracy: 0.9167\n",
            "Epoch 13/15\n",
            "429/429 [==============================] - 14s 32ms/step - loss: 0.3070 - accuracy: 0.8980 - val_loss: 0.0955 - val_accuracy: 0.9740\n",
            "Epoch 14/15\n",
            "429/429 [==============================] - 14s 32ms/step - loss: 0.2892 - accuracy: 0.9061 - val_loss: 0.0865 - val_accuracy: 0.9635\n",
            "Epoch 15/15\n",
            "429/429 [==============================] - 14s 32ms/step - loss: 0.2744 - accuracy: 0.9096 - val_loss: 0.0916 - val_accuracy: 0.9583\n"
          ],
          "name": "stdout"
        },
        {
          "output_type": "execute_result",
          "data": {
            "text/plain": [
              "[162.69644165039062, 0.7328499555587769]"
            ]
          },
          "metadata": {
            "tags": []
          },
          "execution_count": 36
        }
      ]
    },
    {
      "cell_type": "code",
      "metadata": {
        "id": "5oSYXra0MmQ7",
        "colab": {
          "base_uri": "https://localhost:8080/",
          "height": 545
        },
        "outputId": "9675ecba-e9bd-4494-8157-df0b950be192"
      },
      "source": [
        "# Plotted the chart for accuracy and loss on both training and validation\n",
        "%matplotlib inline\n",
        "import matplotlib.pyplot as plt\n",
        "acc = history.history['accuracy']\n",
        "val_acc = history.history['val_accuracy']\n",
        "loss = history.history['loss']\n",
        "val_loss = history.history['val_loss']\n",
        "\n",
        "epochs = range(len(acc))\n",
        "\n",
        "plt.plot(epochs, acc, 'r', label='Training accuracy')\n",
        "plt.plot(epochs, val_acc, 'b', label='Validation accuracy')\n",
        "plt.title('Training and validation accuracy')\n",
        "plt.legend()\n",
        "plt.figure()\n",
        "\n",
        "plt.plot(epochs, loss, 'r', label='Training Loss')\n",
        "plt.plot(epochs, val_loss, 'b', label='Validation Loss')\n",
        "plt.title('Training and validation loss')\n",
        "plt.legend()\n",
        "\n",
        "plt.show()"
      ],
      "execution_count": 37,
      "outputs": [
        {
          "output_type": "display_data",
          "data": {
            "image/png": "[encoded data removed]",
            "text/plain": [
              "<Figure size 432x288 with 1 Axes>"
            ]
          },
          "metadata": {
            "tags": [],
            "needs_background": "light"
          }
        },
        {
          "output_type": "display_data",
          "data": {
            "image/png": "[encoded data removed]",
            "text/plain": [
              "<Figure size 432x288 with 1 Axes>"
            ]
          },
          "metadata": {
            "tags": [],
            "needs_background": "light"
          }
        }
      ]
    },
    {
      "cell_type": "code",
      "metadata": {
        "id": "EqjeW9WLOyu9"
      },
      "source": [
        ""
      ],
      "execution_count": null,
      "outputs": []
    }
  ]
}